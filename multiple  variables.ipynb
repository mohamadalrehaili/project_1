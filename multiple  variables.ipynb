{
 "cells": [
  {
   "cell_type": "markdown",
   "metadata": {
    "id": "MR6hrTMuM_vi"
   },
   "source": [
    "# Read files from a dataframe"
   ]
  },
  {
   "cell_type": "code",
   "execution_count": 109,
   "metadata": {
    "id": "85gl0Ds6M_v-"
   },
   "outputs": [],
   "source": [
    "# importing libraries\n",
    "import numpy as np\n",
    "import pandas as pd\n",
    "import matplotlib.pyplot as plt\n",
    "import numpy as np\n",
    "from sklearn import datasets, linear_model\n",
    "\n",
    "from sklearn.metrics import mean_squared_error\n",
    "\n",
    "from sklearn.linear_model import LinearRegression\n",
    "\n",
    "from sklearn.model_selection import train_test_split\n",
    "from sklearn.linear_model import LinearRegression\n",
    "from sklearn.metrics import mean_absolute_error, mean_squared_error\n",
    "from sklearn.model_selection import train_test_split"
   ]
  },
  {
   "cell_type": "markdown",
   "metadata": {},
   "source": [
    "### multiple input variables"
   ]
  },
  {
   "cell_type": "code",
   "execution_count": 110,
   "metadata": {
    "id": "pY2UdjKpOfOE"
   },
   "outputs": [
    {
     "data": {
      "text/html": [
       "<div>\n",
       "<style scoped>\n",
       "    .dataframe tbody tr th:only-of-type {\n",
       "        vertical-align: middle;\n",
       "    }\n",
       "\n",
       "    .dataframe tbody tr th {\n",
       "        vertical-align: top;\n",
       "    }\n",
       "\n",
       "    .dataframe thead th {\n",
       "        text-align: right;\n",
       "    }\n",
       "</style>\n",
       "<table border=\"1\" class=\"dataframe\">\n",
       "  <thead>\n",
       "    <tr style=\"text-align: right;\">\n",
       "      <th></th>\n",
       "      <th>price</th>\n",
       "      <th>area</th>\n",
       "      <th>bedrooms</th>\n",
       "      <th>bathrooms</th>\n",
       "      <th>stories</th>\n",
       "      <th>mainroad</th>\n",
       "      <th>guestroom</th>\n",
       "      <th>basement</th>\n",
       "      <th>hotwaterheating</th>\n",
       "      <th>airconditioning</th>\n",
       "      <th>parking</th>\n",
       "      <th>prefarea</th>\n",
       "      <th>furnishingstatus</th>\n",
       "    </tr>\n",
       "  </thead>\n",
       "  <tbody>\n",
       "    <tr>\n",
       "      <th>0</th>\n",
       "      <td>13300000</td>\n",
       "      <td>7420</td>\n",
       "      <td>4</td>\n",
       "      <td>2</td>\n",
       "      <td>3</td>\n",
       "      <td>yes</td>\n",
       "      <td>no</td>\n",
       "      <td>no</td>\n",
       "      <td>no</td>\n",
       "      <td>yes</td>\n",
       "      <td>2</td>\n",
       "      <td>yes</td>\n",
       "      <td>furnished</td>\n",
       "    </tr>\n",
       "    <tr>\n",
       "      <th>1</th>\n",
       "      <td>12250000</td>\n",
       "      <td>8960</td>\n",
       "      <td>4</td>\n",
       "      <td>4</td>\n",
       "      <td>4</td>\n",
       "      <td>yes</td>\n",
       "      <td>no</td>\n",
       "      <td>no</td>\n",
       "      <td>no</td>\n",
       "      <td>yes</td>\n",
       "      <td>3</td>\n",
       "      <td>no</td>\n",
       "      <td>furnished</td>\n",
       "    </tr>\n",
       "    <tr>\n",
       "      <th>2</th>\n",
       "      <td>12250000</td>\n",
       "      <td>9960</td>\n",
       "      <td>3</td>\n",
       "      <td>2</td>\n",
       "      <td>2</td>\n",
       "      <td>yes</td>\n",
       "      <td>no</td>\n",
       "      <td>yes</td>\n",
       "      <td>no</td>\n",
       "      <td>no</td>\n",
       "      <td>2</td>\n",
       "      <td>yes</td>\n",
       "      <td>semi-furnished</td>\n",
       "    </tr>\n",
       "    <tr>\n",
       "      <th>3</th>\n",
       "      <td>12215000</td>\n",
       "      <td>7500</td>\n",
       "      <td>4</td>\n",
       "      <td>2</td>\n",
       "      <td>2</td>\n",
       "      <td>yes</td>\n",
       "      <td>no</td>\n",
       "      <td>yes</td>\n",
       "      <td>no</td>\n",
       "      <td>yes</td>\n",
       "      <td>3</td>\n",
       "      <td>yes</td>\n",
       "      <td>furnished</td>\n",
       "    </tr>\n",
       "    <tr>\n",
       "      <th>4</th>\n",
       "      <td>11410000</td>\n",
       "      <td>7420</td>\n",
       "      <td>4</td>\n",
       "      <td>1</td>\n",
       "      <td>2</td>\n",
       "      <td>yes</td>\n",
       "      <td>yes</td>\n",
       "      <td>yes</td>\n",
       "      <td>no</td>\n",
       "      <td>yes</td>\n",
       "      <td>2</td>\n",
       "      <td>no</td>\n",
       "      <td>furnished</td>\n",
       "    </tr>\n",
       "  </tbody>\n",
       "</table>\n",
       "</div>"
      ],
      "text/plain": [
       "      price  area  bedrooms  bathrooms  stories mainroad guestroom basement  \\\n",
       "0  13300000  7420         4          2        3      yes        no       no   \n",
       "1  12250000  8960         4          4        4      yes        no       no   \n",
       "2  12250000  9960         3          2        2      yes        no      yes   \n",
       "3  12215000  7500         4          2        2      yes        no      yes   \n",
       "4  11410000  7420         4          1        2      yes       yes      yes   \n",
       "\n",
       "  hotwaterheating airconditioning  parking prefarea furnishingstatus  \n",
       "0              no             yes        2      yes        furnished  \n",
       "1              no             yes        3       no        furnished  \n",
       "2              no              no        2      yes   semi-furnished  \n",
       "3              no             yes        3      yes        furnished  \n",
       "4              no             yes        2       no        furnished  "
      ]
     },
     "execution_count": 110,
     "metadata": {},
     "output_type": "execute_result"
    }
   ],
   "source": [
    "data2= pd.read_csv(\"Housing.csv\")\n",
    "data2.head()"
   ]
  },
  {
   "cell_type": "code",
   "execution_count": 111,
   "metadata": {
    "id": "3W5484rGOfHm"
   },
   "outputs": [
    {
     "data": {
      "text/plain": [
       "Index(['price', 'area', 'bedrooms', 'bathrooms', 'stories', 'mainroad',\n",
       "       'guestroom', 'basement', 'hotwaterheating', 'airconditioning',\n",
       "       'parking', 'prefarea', 'furnishingstatus'],\n",
       "      dtype='object')"
      ]
     },
     "execution_count": 111,
     "metadata": {},
     "output_type": "execute_result"
    }
   ],
   "source": [
    "data2.columns"
   ]
  },
  {
   "cell_type": "code",
   "execution_count": 112,
   "metadata": {
    "id": "SI2hCuAmOfEV"
   },
   "outputs": [],
   "source": [
    "col_to_drop=[ 'mainroad',\n",
    "       'guestroom', 'basement', 'hotwaterheating', 'airconditioning',\n",
    "       'parking', 'prefarea', 'furnishingstatus']\n",
    "data2.drop(col_to_drop,axis=1,inplace=True)"
   ]
  },
  {
   "cell_type": "code",
   "execution_count": 113,
   "metadata": {
    "id": "AFTMbyWJOfAv"
   },
   "outputs": [
    {
     "data": {
      "text/html": [
       "<div>\n",
       "<style scoped>\n",
       "    .dataframe tbody tr th:only-of-type {\n",
       "        vertical-align: middle;\n",
       "    }\n",
       "\n",
       "    .dataframe tbody tr th {\n",
       "        vertical-align: top;\n",
       "    }\n",
       "\n",
       "    .dataframe thead th {\n",
       "        text-align: right;\n",
       "    }\n",
       "</style>\n",
       "<table border=\"1\" class=\"dataframe\">\n",
       "  <thead>\n",
       "    <tr style=\"text-align: right;\">\n",
       "      <th></th>\n",
       "      <th>price</th>\n",
       "      <th>area</th>\n",
       "      <th>bedrooms</th>\n",
       "      <th>bathrooms</th>\n",
       "      <th>stories</th>\n",
       "    </tr>\n",
       "  </thead>\n",
       "  <tbody>\n",
       "    <tr>\n",
       "      <th>0</th>\n",
       "      <td>13300000</td>\n",
       "      <td>7420</td>\n",
       "      <td>4</td>\n",
       "      <td>2</td>\n",
       "      <td>3</td>\n",
       "    </tr>\n",
       "    <tr>\n",
       "      <th>1</th>\n",
       "      <td>12250000</td>\n",
       "      <td>8960</td>\n",
       "      <td>4</td>\n",
       "      <td>4</td>\n",
       "      <td>4</td>\n",
       "    </tr>\n",
       "    <tr>\n",
       "      <th>2</th>\n",
       "      <td>12250000</td>\n",
       "      <td>9960</td>\n",
       "      <td>3</td>\n",
       "      <td>2</td>\n",
       "      <td>2</td>\n",
       "    </tr>\n",
       "    <tr>\n",
       "      <th>3</th>\n",
       "      <td>12215000</td>\n",
       "      <td>7500</td>\n",
       "      <td>4</td>\n",
       "      <td>2</td>\n",
       "      <td>2</td>\n",
       "    </tr>\n",
       "    <tr>\n",
       "      <th>4</th>\n",
       "      <td>11410000</td>\n",
       "      <td>7420</td>\n",
       "      <td>4</td>\n",
       "      <td>1</td>\n",
       "      <td>2</td>\n",
       "    </tr>\n",
       "  </tbody>\n",
       "</table>\n",
       "</div>"
      ],
      "text/plain": [
       "      price  area  bedrooms  bathrooms  stories\n",
       "0  13300000  7420         4          2        3\n",
       "1  12250000  8960         4          4        4\n",
       "2  12250000  9960         3          2        2\n",
       "3  12215000  7500         4          2        2\n",
       "4  11410000  7420         4          1        2"
      ]
     },
     "execution_count": 113,
     "metadata": {},
     "output_type": "execute_result"
    }
   ],
   "source": [
    "data2.head()"
   ]
  },
  {
   "cell_type": "code",
   "execution_count": 114,
   "metadata": {},
   "outputs": [
    {
     "data": {
      "text/plain": [
       "Index(['price', 'area', 'bedrooms', 'bathrooms', 'stories'], dtype='object')"
      ]
     },
     "execution_count": 114,
     "metadata": {},
     "output_type": "execute_result"
    }
   ],
   "source": [
    "data2.columns"
   ]
  },
  {
   "cell_type": "code",
   "execution_count": 115,
   "metadata": {},
   "outputs": [
    {
     "data": {
      "text/html": [
       "<div>\n",
       "<style scoped>\n",
       "    .dataframe tbody tr th:only-of-type {\n",
       "        vertical-align: middle;\n",
       "    }\n",
       "\n",
       "    .dataframe tbody tr th {\n",
       "        vertical-align: top;\n",
       "    }\n",
       "\n",
       "    .dataframe thead th {\n",
       "        text-align: right;\n",
       "    }\n",
       "</style>\n",
       "<table border=\"1\" class=\"dataframe\">\n",
       "  <thead>\n",
       "    <tr style=\"text-align: right;\">\n",
       "      <th></th>\n",
       "      <th>area</th>\n",
       "      <th>bedrooms</th>\n",
       "      <th>price</th>\n",
       "    </tr>\n",
       "  </thead>\n",
       "  <tbody>\n",
       "    <tr>\n",
       "      <th>0</th>\n",
       "      <td>7420</td>\n",
       "      <td>4</td>\n",
       "      <td>13300000</td>\n",
       "    </tr>\n",
       "    <tr>\n",
       "      <th>1</th>\n",
       "      <td>8960</td>\n",
       "      <td>4</td>\n",
       "      <td>12250000</td>\n",
       "    </tr>\n",
       "    <tr>\n",
       "      <th>2</th>\n",
       "      <td>9960</td>\n",
       "      <td>3</td>\n",
       "      <td>12250000</td>\n",
       "    </tr>\n",
       "    <tr>\n",
       "      <th>3</th>\n",
       "      <td>7500</td>\n",
       "      <td>4</td>\n",
       "      <td>12215000</td>\n",
       "    </tr>\n",
       "    <tr>\n",
       "      <th>4</th>\n",
       "      <td>7420</td>\n",
       "      <td>4</td>\n",
       "      <td>11410000</td>\n",
       "    </tr>\n",
       "  </tbody>\n",
       "</table>\n",
       "</div>"
      ],
      "text/plain": [
       "   area  bedrooms     price\n",
       "0  7420         4  13300000\n",
       "1  8960         4  12250000\n",
       "2  9960         3  12250000\n",
       "3  7500         4  12215000\n",
       "4  7420         4  11410000"
      ]
     },
     "execution_count": 115,
     "metadata": {},
     "output_type": "execute_result"
    }
   ],
   "source": [
    "data2 = data2[[ 'area', 'bedrooms',  'price']]\n",
    "data2.head()"
   ]
  },
  {
   "cell_type": "code",
   "execution_count": 116,
   "metadata": {},
   "outputs": [],
   "source": [
    "data2 = (data2 - data2.mean()) / data2.std()\n"
   ]
  },
  {
   "cell_type": "code",
   "execution_count": 117,
   "metadata": {},
   "outputs": [
    {
     "data": {
      "text/html": [
       "<div>\n",
       "<style scoped>\n",
       "    .dataframe tbody tr th:only-of-type {\n",
       "        vertical-align: middle;\n",
       "    }\n",
       "\n",
       "    .dataframe tbody tr th {\n",
       "        vertical-align: top;\n",
       "    }\n",
       "\n",
       "    .dataframe thead th {\n",
       "        text-align: right;\n",
       "    }\n",
       "</style>\n",
       "<table border=\"1\" class=\"dataframe\">\n",
       "  <thead>\n",
       "    <tr style=\"text-align: right;\">\n",
       "      <th></th>\n",
       "      <th>area</th>\n",
       "      <th>bedrooms</th>\n",
       "      <th>price</th>\n",
       "    </tr>\n",
       "  </thead>\n",
       "  <tbody>\n",
       "    <tr>\n",
       "      <th>0</th>\n",
       "      <td>1.045766</td>\n",
       "      <td>1.402131</td>\n",
       "      <td>4.562174</td>\n",
       "    </tr>\n",
       "    <tr>\n",
       "      <th>1</th>\n",
       "      <td>1.755397</td>\n",
       "      <td>1.402131</td>\n",
       "      <td>4.000809</td>\n",
       "    </tr>\n",
       "    <tr>\n",
       "      <th>2</th>\n",
       "      <td>2.216196</td>\n",
       "      <td>0.047235</td>\n",
       "      <td>4.000809</td>\n",
       "    </tr>\n",
       "    <tr>\n",
       "      <th>3</th>\n",
       "      <td>1.082630</td>\n",
       "      <td>1.402131</td>\n",
       "      <td>3.982096</td>\n",
       "    </tr>\n",
       "    <tr>\n",
       "      <th>4</th>\n",
       "      <td>1.045766</td>\n",
       "      <td>1.402131</td>\n",
       "      <td>3.551716</td>\n",
       "    </tr>\n",
       "  </tbody>\n",
       "</table>\n",
       "</div>"
      ],
      "text/plain": [
       "       area  bedrooms     price\n",
       "0  1.045766  1.402131  4.562174\n",
       "1  1.755397  1.402131  4.000809\n",
       "2  2.216196  0.047235  4.000809\n",
       "3  1.082630  1.402131  3.982096\n",
       "4  1.045766  1.402131  3.551716"
      ]
     },
     "execution_count": 117,
     "metadata": {},
     "output_type": "execute_result"
    }
   ],
   "source": [
    "data2.head()"
   ]
  },
  {
   "cell_type": "code",
   "execution_count": 139,
   "metadata": {},
   "outputs": [],
   "source": [
    "X = data2.iloc[:, :-1].values\n",
    "y = data2.iloc[:, -1].values\n"
   ]
  },
  {
   "cell_type": "markdown",
   "metadata": {},
   "source": [
    "X = data2.drop(labels=['price'], axis = 1)\n",
    "y = data2['price']\n",
    "y.head()"
   ]
  },
  {
   "cell_type": "code",
   "execution_count": 119,
   "metadata": {},
   "outputs": [
    {
     "data": {
      "text/plain": [
       "((327, 2), (218, 2))"
      ]
     },
     "execution_count": 119,
     "metadata": {},
     "output_type": "execute_result"
    }
   ],
   "source": [
    "X_train, X_test, y_train, y_test = train_test_split(X, y, test_size = 0.40, random_state = 0)\n",
    "X_train.shape, X_test.shape    "
   ]
  },
  {
   "cell_type": "code",
   "execution_count": 120,
   "metadata": {},
   "outputs": [],
   "source": [
    "from sklearn.model_selection import train_test_split\n",
    "X_train, X_test, y_train, y_test = train_test_split(X, y, test_size=0.40, random_state=0)"
   ]
  },
  {
   "cell_type": "code",
   "execution_count": 121,
   "metadata": {},
   "outputs": [
    {
     "data": {
      "text/plain": [
       "LinearRegression(copy_X=True, fit_intercept=True, n_jobs=None, normalize=False)"
      ]
     },
     "execution_count": 121,
     "metadata": {},
     "output_type": "execute_result"
    }
   ],
   "source": [
    "from sklearn.linear_model import LinearRegression\n",
    "regressor = LinearRegression()\n",
    "regressor.fit(X_train, y_train)"
   ]
  },
  {
   "cell_type": "code",
   "execution_count": 122,
   "metadata": {},
   "outputs": [
    {
     "name": "stdout",
     "output_type": "stream",
     "text": [
      "0.002538284772084242\n"
     ]
    }
   ],
   "source": [
    "print(regressor.intercept_)"
   ]
  },
  {
   "cell_type": "code",
   "execution_count": 123,
   "metadata": {},
   "outputs": [
    {
     "name": "stdout",
     "output_type": "stream",
     "text": [
      "[0.50619694 0.31913101]\n"
     ]
    }
   ],
   "source": [
    "print(regressor.coef_)"
   ]
  },
  {
   "cell_type": "code",
   "execution_count": 124,
   "metadata": {},
   "outputs": [],
   "source": [
    "y_pred = regressor.predict(X_test)"
   ]
  },
  {
   "cell_type": "code",
   "execution_count": 125,
   "metadata": {},
   "outputs": [
    {
     "data": {
      "text/html": [
       "<div>\n",
       "<style scoped>\n",
       "    .dataframe tbody tr th:only-of-type {\n",
       "        vertical-align: middle;\n",
       "    }\n",
       "\n",
       "    .dataframe tbody tr th {\n",
       "        vertical-align: top;\n",
       "    }\n",
       "\n",
       "    .dataframe thead th {\n",
       "        text-align: right;\n",
       "    }\n",
       "</style>\n",
       "<table border=\"1\" class=\"dataframe\">\n",
       "  <thead>\n",
       "    <tr style=\"text-align: right;\">\n",
       "      <th></th>\n",
       "      <th>Actual</th>\n",
       "      <th>Predicted</th>\n",
       "    </tr>\n",
       "  </thead>\n",
       "  <tbody>\n",
       "    <tr>\n",
       "      <th>0</th>\n",
       "      <td>-0.097159</td>\n",
       "      <td>-0.250757</td>\n",
       "    </tr>\n",
       "    <tr>\n",
       "      <th>1</th>\n",
       "      <td>0.703723</td>\n",
       "      <td>1.060137</td>\n",
       "    </tr>\n",
       "    <tr>\n",
       "      <th>2</th>\n",
       "      <td>-0.405910</td>\n",
       "      <td>0.055674</td>\n",
       "    </tr>\n",
       "    <tr>\n",
       "      <th>3</th>\n",
       "      <td>1.156557</td>\n",
       "      <td>1.462802</td>\n",
       "    </tr>\n",
       "    <tr>\n",
       "      <th>4</th>\n",
       "      <td>-0.976631</td>\n",
       "      <td>0.102325</td>\n",
       "    </tr>\n",
       "    <tr>\n",
       "      <th>5</th>\n",
       "      <td>0.763602</td>\n",
       "      <td>0.297393</td>\n",
       "    </tr>\n",
       "    <tr>\n",
       "      <th>6</th>\n",
       "      <td>-0.658524</td>\n",
       "      <td>-0.285746</td>\n",
       "    </tr>\n",
       "    <tr>\n",
       "      <th>7</th>\n",
       "      <td>-0.976631</td>\n",
       "      <td>-0.372050</td>\n",
       "    </tr>\n",
       "    <tr>\n",
       "      <th>8</th>\n",
       "      <td>-0.677236</td>\n",
       "      <td>-0.796975</td>\n",
       "    </tr>\n",
       "    <tr>\n",
       "      <th>9</th>\n",
       "      <td>1.717923</td>\n",
       "      <td>1.347909</td>\n",
       "    </tr>\n",
       "    <tr>\n",
       "      <th>10</th>\n",
       "      <td>1.062996</td>\n",
       "      <td>0.648143</td>\n",
       "    </tr>\n",
       "    <tr>\n",
       "      <th>11</th>\n",
       "      <td>-0.415266</td>\n",
       "      <td>-0.260088</td>\n",
       "    </tr>\n",
       "    <tr>\n",
       "      <th>12</th>\n",
       "      <td>-0.864358</td>\n",
       "      <td>-0.379048</td>\n",
       "    </tr>\n",
       "    <tr>\n",
       "      <th>13</th>\n",
       "      <td>-0.789509</td>\n",
       "      <td>0.229748</td>\n",
       "    </tr>\n",
       "    <tr>\n",
       "      <th>14</th>\n",
       "      <td>-0.340417</td>\n",
       "      <td>0.212254</td>\n",
       "    </tr>\n",
       "    <tr>\n",
       "      <th>15</th>\n",
       "      <td>-1.126328</td>\n",
       "      <td>-0.616968</td>\n",
       "    </tr>\n",
       "    <tr>\n",
       "      <th>16</th>\n",
       "      <td>-0.190719</td>\n",
       "      <td>-0.473217</td>\n",
       "    </tr>\n",
       "    <tr>\n",
       "      <th>17</th>\n",
       "      <td>-0.564963</td>\n",
       "      <td>0.220418</td>\n",
       "    </tr>\n",
       "    <tr>\n",
       "      <th>18</th>\n",
       "      <td>-0.752085</td>\n",
       "      <td>-0.460687</td>\n",
       "    </tr>\n",
       "    <tr>\n",
       "      <th>19</th>\n",
       "      <td>-0.265568</td>\n",
       "      <td>-0.566519</td>\n",
       "    </tr>\n",
       "    <tr>\n",
       "      <th>20</th>\n",
       "      <td>0.127388</td>\n",
       "      <td>0.717252</td>\n",
       "    </tr>\n",
       "    <tr>\n",
       "      <th>21</th>\n",
       "      <td>0.329479</td>\n",
       "      <td>0.320718</td>\n",
       "    </tr>\n",
       "    <tr>\n",
       "      <th>22</th>\n",
       "      <td>0.894587</td>\n",
       "      <td>-0.017502</td>\n",
       "    </tr>\n",
       "    <tr>\n",
       "      <th>23</th>\n",
       "      <td>-1.537996</td>\n",
       "      <td>-0.787245</td>\n",
       "    </tr>\n",
       "    <tr>\n",
       "      <th>24</th>\n",
       "      <td>0.726177</td>\n",
       "      <td>0.313720</td>\n",
       "    </tr>\n",
       "    <tr>\n",
       "      <th>25</th>\n",
       "      <td>0.370646</td>\n",
       "      <td>-0.449024</td>\n",
       "    </tr>\n",
       "    <tr>\n",
       "      <th>26</th>\n",
       "      <td>0.554025</td>\n",
       "      <td>0.449008</td>\n",
       "    </tr>\n",
       "    <tr>\n",
       "      <th>27</th>\n",
       "      <td>-0.078446</td>\n",
       "      <td>0.141111</td>\n",
       "    </tr>\n",
       "    <tr>\n",
       "      <th>28</th>\n",
       "      <td>0.408070</td>\n",
       "      <td>-0.414036</td>\n",
       "    </tr>\n",
       "    <tr>\n",
       "      <th>29</th>\n",
       "      <td>0.632616</td>\n",
       "      <td>0.313720</td>\n",
       "    </tr>\n",
       "    <tr>\n",
       "      <th>...</th>\n",
       "      <td>...</td>\n",
       "      <td>...</td>\n",
       "    </tr>\n",
       "    <tr>\n",
       "      <th>188</th>\n",
       "      <td>1.792771</td>\n",
       "      <td>1.276467</td>\n",
       "    </tr>\n",
       "    <tr>\n",
       "      <th>189</th>\n",
       "      <td>-0.583675</td>\n",
       "      <td>-0.769451</td>\n",
       "    </tr>\n",
       "    <tr>\n",
       "      <th>190</th>\n",
       "      <td>2.204439</td>\n",
       "      <td>-0.110804</td>\n",
       "    </tr>\n",
       "    <tr>\n",
       "      <th>191</th>\n",
       "      <td>-0.452690</td>\n",
       "      <td>0.700924</td>\n",
       "    </tr>\n",
       "    <tr>\n",
       "      <th>192</th>\n",
       "      <td>-0.115871</td>\n",
       "      <td>-0.588978</td>\n",
       "    </tr>\n",
       "    <tr>\n",
       "      <th>193</th>\n",
       "      <td>-1.332162</td>\n",
       "      <td>-1.122534</td>\n",
       "    </tr>\n",
       "    <tr>\n",
       "      <th>194</th>\n",
       "      <td>1.381104</td>\n",
       "      <td>0.648143</td>\n",
       "    </tr>\n",
       "    <tr>\n",
       "      <th>195</th>\n",
       "      <td>1.006860</td>\n",
       "      <td>-0.241427</td>\n",
       "    </tr>\n",
       "    <tr>\n",
       "      <th>196</th>\n",
       "      <td>1.976151</td>\n",
       "      <td>0.215753</td>\n",
       "    </tr>\n",
       "    <tr>\n",
       "      <th>197</th>\n",
       "      <td>0.258373</td>\n",
       "      <td>0.484864</td>\n",
       "    </tr>\n",
       "    <tr>\n",
       "      <th>198</th>\n",
       "      <td>0.875875</td>\n",
       "      <td>-0.064153</td>\n",
       "    </tr>\n",
       "    <tr>\n",
       "      <th>199</th>\n",
       "      <td>0.277085</td>\n",
       "      <td>-0.543194</td>\n",
       "    </tr>\n",
       "    <tr>\n",
       "      <th>200</th>\n",
       "      <td>3.551716</td>\n",
       "      <td>0.979365</td>\n",
       "    </tr>\n",
       "    <tr>\n",
       "      <th>201</th>\n",
       "      <td>-1.156268</td>\n",
       "      <td>-0.937395</td>\n",
       "    </tr>\n",
       "    <tr>\n",
       "      <th>202</th>\n",
       "      <td>0.239661</td>\n",
       "      <td>0.495660</td>\n",
       "    </tr>\n",
       "    <tr>\n",
       "      <th>203</th>\n",
       "      <td>-0.115871</td>\n",
       "      <td>-0.334729</td>\n",
       "    </tr>\n",
       "    <tr>\n",
       "      <th>204</th>\n",
       "      <td>-0.939207</td>\n",
       "      <td>-0.309071</td>\n",
       "    </tr>\n",
       "    <tr>\n",
       "      <th>205</th>\n",
       "      <td>3.252321</td>\n",
       "      <td>0.565636</td>\n",
       "    </tr>\n",
       "    <tr>\n",
       "      <th>206</th>\n",
       "      <td>0.473563</td>\n",
       "      <td>0.802091</td>\n",
       "    </tr>\n",
       "    <tr>\n",
       "      <th>207</th>\n",
       "      <td>-0.490114</td>\n",
       "      <td>-0.664486</td>\n",
       "    </tr>\n",
       "    <tr>\n",
       "      <th>208</th>\n",
       "      <td>0.071251</td>\n",
       "      <td>-0.129465</td>\n",
       "    </tr>\n",
       "    <tr>\n",
       "      <th>209</th>\n",
       "      <td>0.539055</td>\n",
       "      <td>0.215753</td>\n",
       "    </tr>\n",
       "    <tr>\n",
       "      <th>210</th>\n",
       "      <td>-0.976631</td>\n",
       "      <td>0.359205</td>\n",
       "    </tr>\n",
       "    <tr>\n",
       "      <th>211</th>\n",
       "      <td>0.632616</td>\n",
       "      <td>0.707389</td>\n",
       "    </tr>\n",
       "    <tr>\n",
       "      <th>212</th>\n",
       "      <td>2.073454</td>\n",
       "      <td>0.693927</td>\n",
       "    </tr>\n",
       "    <tr>\n",
       "      <th>213</th>\n",
       "      <td>1.119133</td>\n",
       "      <td>0.215753</td>\n",
       "    </tr>\n",
       "    <tr>\n",
       "      <th>214</th>\n",
       "      <td>0.071251</td>\n",
       "      <td>-0.100075</td>\n",
       "    </tr>\n",
       "    <tr>\n",
       "      <th>215</th>\n",
       "      <td>2.129591</td>\n",
       "      <td>-0.176116</td>\n",
       "    </tr>\n",
       "    <tr>\n",
       "      <th>216</th>\n",
       "      <td>-1.130071</td>\n",
       "      <td>-0.873250</td>\n",
       "    </tr>\n",
       "    <tr>\n",
       "      <th>217</th>\n",
       "      <td>-0.621100</td>\n",
       "      <td>-0.566519</td>\n",
       "    </tr>\n",
       "  </tbody>\n",
       "</table>\n",
       "<p>218 rows × 2 columns</p>\n",
       "</div>"
      ],
      "text/plain": [
       "       Actual  Predicted\n",
       "0   -0.097159  -0.250757\n",
       "1    0.703723   1.060137\n",
       "2   -0.405910   0.055674\n",
       "3    1.156557   1.462802\n",
       "4   -0.976631   0.102325\n",
       "5    0.763602   0.297393\n",
       "6   -0.658524  -0.285746\n",
       "7   -0.976631  -0.372050\n",
       "8   -0.677236  -0.796975\n",
       "9    1.717923   1.347909\n",
       "10   1.062996   0.648143\n",
       "11  -0.415266  -0.260088\n",
       "12  -0.864358  -0.379048\n",
       "13  -0.789509   0.229748\n",
       "14  -0.340417   0.212254\n",
       "15  -1.126328  -0.616968\n",
       "16  -0.190719  -0.473217\n",
       "17  -0.564963   0.220418\n",
       "18  -0.752085  -0.460687\n",
       "19  -0.265568  -0.566519\n",
       "20   0.127388   0.717252\n",
       "21   0.329479   0.320718\n",
       "22   0.894587  -0.017502\n",
       "23  -1.537996  -0.787245\n",
       "24   0.726177   0.313720\n",
       "25   0.370646  -0.449024\n",
       "26   0.554025   0.449008\n",
       "27  -0.078446   0.141111\n",
       "28   0.408070  -0.414036\n",
       "29   0.632616   0.313720\n",
       "..        ...        ...\n",
       "188  1.792771   1.276467\n",
       "189 -0.583675  -0.769451\n",
       "190  2.204439  -0.110804\n",
       "191 -0.452690   0.700924\n",
       "192 -0.115871  -0.588978\n",
       "193 -1.332162  -1.122534\n",
       "194  1.381104   0.648143\n",
       "195  1.006860  -0.241427\n",
       "196  1.976151   0.215753\n",
       "197  0.258373   0.484864\n",
       "198  0.875875  -0.064153\n",
       "199  0.277085  -0.543194\n",
       "200  3.551716   0.979365\n",
       "201 -1.156268  -0.937395\n",
       "202  0.239661   0.495660\n",
       "203 -0.115871  -0.334729\n",
       "204 -0.939207  -0.309071\n",
       "205  3.252321   0.565636\n",
       "206  0.473563   0.802091\n",
       "207 -0.490114  -0.664486\n",
       "208  0.071251  -0.129465\n",
       "209  0.539055   0.215753\n",
       "210 -0.976631   0.359205\n",
       "211  0.632616   0.707389\n",
       "212  2.073454   0.693927\n",
       "213  1.119133   0.215753\n",
       "214  0.071251  -0.100075\n",
       "215  2.129591  -0.176116\n",
       "216 -1.130071  -0.873250\n",
       "217 -0.621100  -0.566519\n",
       "\n",
       "[218 rows x 2 columns]"
      ]
     },
     "execution_count": 125,
     "metadata": {},
     "output_type": "execute_result"
    }
   ],
   "source": [
    "df = pd.DataFrame({'Actual': y_test, 'Predicted': y_pred})\n",
    "df"
   ]
  },
  {
   "cell_type": "code",
   "execution_count": 126,
   "metadata": {
    "id": "_jlSelCxOe8O"
   },
   "outputs": [],
   "source": [
    "data2.insert(0, 'Ones', 1)\n",
    "\n",
    "\n",
    "cols = data2.shape[1]\n",
    "X2 = data2.iloc[:,0:cols-1]\n",
    "Y2 = data2.iloc[:,cols-1:cols]\n",
    "\n",
    "\n"
   ]
  },
  {
   "cell_type": "code",
   "execution_count": 127,
   "metadata": {},
   "outputs": [],
   "source": [
    "X2 = np.matrix(X2.values)\n",
    "Y2 = np.matrix(Y2.values)\n",
    "theta2 = np.matrix(np.array([0,0,0]))\n",
    "\n",
    "\n",
    "\n"
   ]
  },
  {
   "cell_type": "code",
   "execution_count": 128,
   "metadata": {},
   "outputs": [],
   "source": [
    "def computeCost(X, y, theta):\n",
    "    inner = np.power(((X * theta.T) - y), 2)\n",
    "    return np.sum(inner) / (2 * len(X))\n"
   ]
  },
  {
   "cell_type": "code",
   "execution_count": 129,
   "metadata": {},
   "outputs": [],
   "source": [
    "def gradientDescent(X, y, theta, alpha, iters):\n",
    "    temp = np.matrix(np.zeros(theta.shape))\n",
    "    parameters = int(theta.ravel().shape[1])\n",
    "    cost = np.zeros(iters)\n",
    "    \n",
    "    for i in range(iters):\n",
    "        error = (X * theta.T) - y\n",
    "        \n",
    "        for j in range(parameters):\n",
    "            term = np.multiply(error, X[:,j])\n",
    "            temp[0,j] = theta[0,j] - ((alpha / len(X)) * np.sum(term))\n",
    "            \n",
    "        theta = temp\n",
    "        cost[i] = computeCost(X, y, theta)\n",
    "        \n",
    "    return theta, cost\n"
   ]
  },
  {
   "cell_type": "code",
   "execution_count": 130,
   "metadata": {},
   "outputs": [
    {
     "name": "stdout",
     "output_type": "stream",
     "text": [
      "g2 =  [[3.33759524e-16 4.91656752e-01 2.91844700e-01]]\n",
      "cost2  =  [0.49490585 0.49082376 0.48683416 0.48293495 0.47912407 0.47539952\n",
      " 0.47175934 0.4682016  0.46472445 0.46132605 0.45800461 0.45475839\n",
      " 0.45158567 0.44848479 0.44545413 0.44249207 0.43959708 0.43676762\n",
      " 0.43400221 0.43129939 0.42865775 0.42607589 0.42355246 0.42108614\n",
      " 0.41867563 0.41631965 0.41401699 0.41176641 0.40956675 0.40741685\n",
      " 0.40531558 0.40326184 0.40125455 0.39929265 0.39737512 0.39550095\n",
      " 0.39366915 0.39187877 0.39012887 0.38841853 0.38674685 0.38511295\n",
      " 0.38351598 0.38195511 0.38042951 0.37893839 0.37748095 0.37605645\n",
      " 0.37466413 0.37330327]\n",
      "computeCost =  0.3141760446378975\n"
     ]
    }
   ],
   "source": [
    "alpha = 0.01\n",
    "iters = 1000\n",
    "\n",
    "g2, cost2 = gradientDescent(X2, Y2, theta2, alpha, iters)\n",
    "\n",
    "thiscost = computeCost(X2, Y2, g2)\n",
    "\n",
    "\n",
    "print('g2 = ' , g2)\n",
    "print('cost2  = ' , cost2[0:50] )\n",
    "print('computeCost = ' , thiscost)\n",
    "\n",
    "\n"
   ]
  },
  {
   "cell_type": "code",
   "execution_count": 131,
   "metadata": {
    "scrolled": true
   },
   "outputs": [
    {
     "name": "stdout",
     "output_type": "stream",
     "text": [
      "x \n",
      " [-1.61304784 -1.54532427 -1.4776007  -1.40987713 -1.34215356 -1.27442999\n",
      " -1.20670642 -1.13898285 -1.07125928 -1.00353571 -0.93581214 -0.86808857\n",
      " -0.800365   -0.73264143 -0.66491786 -0.59719429 -0.52947072 -0.46174715\n",
      " -0.39402358 -0.32630001 -0.25857644 -0.19085287 -0.1231293  -0.05540573\n",
      "  0.01231784  0.08004141  0.14776498  0.21548855  0.28321212  0.35093569\n",
      "  0.41865926  0.48638283  0.5541064   0.62182996  0.68955353  0.7572771\n",
      "  0.82500067  0.89272424  0.96044781  1.02817138  1.09589495  1.16361852\n",
      "  1.23134209  1.29906566  1.36678923  1.4345128   1.50223637  1.56995994\n",
      "  1.63768351  1.70540708  1.77313065  1.84085422  1.90857779  1.97630136\n",
      "  2.04402493  2.1117485   2.17947207  2.24719564  2.31491921  2.38264278\n",
      "  2.45036635  2.51808992  2.58581349  2.65353706  2.72126063  2.7889842\n",
      "  2.85670777  2.92443134  2.99215491  3.05987848  3.12760205  3.19532562\n",
      "  3.26304919  3.33077276  3.39849633  3.4662199   3.53394347  3.60166704\n",
      "  3.6693906   3.73711417  3.80483774  3.87256131  3.94028488  4.00800845\n",
      "  4.07573202  4.14345559  4.21117916  4.27890273  4.3466263   4.41434987\n",
      "  4.48207344  4.54979701  4.61752058  4.68524415  4.75296772  4.82069129\n",
      "  4.88841486  4.95613843  5.023862    5.09158557]\n",
      "g \n",
      " [[3.33759524e-16 4.91656752e-01 2.91844700e-01]]\n",
      "f \n",
      " [-0.79306586 -0.75976911 -0.72647236 -0.69317561 -0.65987886 -0.62658211\n",
      " -0.59328536 -0.55998861 -0.52669186 -0.49339511 -0.46009836 -0.42680161\n",
      " -0.39350486 -0.36020811 -0.32691136 -0.29361461 -0.26031786 -0.22702111\n",
      " -0.19372435 -0.1604276  -0.12713085 -0.0938341  -0.06053735 -0.0272406\n",
      "  0.00605615  0.0393529   0.07264965  0.1059464   0.13924315  0.1725399\n",
      "  0.20583665  0.2391334   0.27243015  0.3057269   0.33902365  0.3723204\n",
      "  0.40561715  0.4389139   0.47221065  0.5055074   0.53880415  0.5721009\n",
      "  0.60539765  0.6386944   0.67199116  0.70528791  0.73858466  0.77188141\n",
      "  0.80517816  0.83847491  0.87177166  0.90506841  0.93836516  0.97166191\n",
      "  1.00495866  1.03825541  1.07155216  1.10484891  1.13814566  1.17144241\n",
      "  1.20473916  1.23803591  1.27133266  1.30462941  1.33792616  1.37122291\n",
      "  1.40451966  1.43781641  1.47111316  1.50440991  1.53770666  1.57100342\n",
      "  1.60430017  1.63759692  1.67089367  1.70419042  1.73748717  1.77078392\n",
      "  1.80408067  1.83737742  1.87067417  1.90397092  1.93726767  1.97056442\n",
      "  2.00386117  2.03715792  2.07045467  2.10375142  2.13704817  2.17034492\n",
      "  2.20364167  2.23693842  2.27023517  2.30353192  2.33682867  2.37012542\n",
      "  2.40342217  2.43671893  2.47001568  2.50331243]\n"
     ]
    }
   ],
   "source": [
    "\n",
    "x = np.linspace(data2.area.min(), data2.area.max(), 100)\n",
    "print('x \\n',x)\n",
    "print('g \\n',g2)\n",
    "\n",
    "f = g2[0, 0] + (g2[0, 1] * x)\n",
    "print('f \\n',f)\n"
   ]
  },
  {
   "cell_type": "code",
   "execution_count": 132,
   "metadata": {},
   "outputs": [
    {
     "data": {
      "text/plain": [
       "Text(0.5, 1.0, 'Size vs. Price')"
      ]
     },
     "execution_count": 132,
     "metadata": {},
     "output_type": "execute_result"
    },
    {
     "data": {
      "image/png": "[encoded data removed]",
      "text/plain": [
       "<Figure size 360x360 with 1 Axes>"
      ]
     },
     "metadata": {
      "needs_background": "light"
     },
     "output_type": "display_data"
    }
   ],
   "source": [
    "\n",
    "fig, ax = plt.subplots(figsize=(5,5))\n",
    "ax.plot(x, f, 'r', label='Prediction')\n",
    "ax.scatter(data2.area, data2.price, label='Training Data')\n",
    "ax.legend(loc=2)\n",
    "ax.set_xlabel('Size')\n",
    "ax.set_ylabel('Price')\n",
    "ax.set_title('Size vs. Price')\n",
    "\n"
   ]
  }
 ],
 "metadata": {
  "colab": {
   "name": "Exercise01.ipynb",
   "provenance": []
  },
  "kernelspec": {
   "display_name": "Python 3",
   "language": "python",
   "name": "python3"
  },
  "language_info": {
   "codemirror_mode": {
    "name": "ipython",
    "version": 3
   },
   "file_extension": ".py",
   "mimetype": "text/x-python",
   "name": "python",
   "nbconvert_exporter": "python",
   "pygments_lexer": "ipython3",
   "version": "3.7.3"
  }
 },
 "nbformat": 4,
 "nbformat_minor": 1
}
